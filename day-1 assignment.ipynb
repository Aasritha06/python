{
 "cells": [
  {
   "cell_type": "code",
   "execution_count": 2,
   "id": "086cf367",
   "metadata": {},
   "outputs": [
    {
     "name": "stdout",
     "output_type": "stream",
     "text": [
      "Integer Value: 9 | Type: <class 'int'>\n",
      "Float Value: 1.05 | Type: <class 'float'>\n",
      "String Value: Welcome to my world! | Type: <class 'str'>\n",
      "Boolean Value: True | Type: <class 'bool'>\n"
     ]
    }
   ],
   "source": [
    "integer_var = 9       \n",
    "decimal_var = 1.05      \n",
    "string_var = \"Welcome to my world!\" \n",
    "boolean_var = True      \n",
    "print(\"Integer Value:\", integer_var, \"| Type:\", type(integer_var))\n",
    "print(\"Float Value:\", decimal_var, \"| Type:\", type(decimal_var))\n",
    "print(\"String Value:\", string_var, \"| Type:\", type(string_var))\n",
    "print(\"Boolean Value:\", boolean_var, \"| Type:\", type(boolean_var))\n"
   ]
  },
  {
   "cell_type": "code",
   "execution_count": null,
   "id": "487ea8dc",
   "metadata": {},
   "outputs": [],
   "source": []
  }
 ],
 "metadata": {
  "kernelspec": {
   "display_name": "Python 3 (ipykernel)",
   "language": "python",
   "name": "python3"
  },
  "language_info": {
   "codemirror_mode": {
    "name": "ipython",
    "version": 3
   },
   "file_extension": ".py",
   "mimetype": "text/x-python",
   "name": "python",
   "nbconvert_exporter": "python",
   "pygments_lexer": "ipython3",
   "version": "3.11.4"
  }
 },
 "nbformat": 4,
 "nbformat_minor": 5
}
