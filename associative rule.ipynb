{
 "cells": [
  {
   "cell_type": "code",
   "execution_count": 22,
   "id": "10981606",
   "metadata": {
    "scrolled": true
   },
   "outputs": [
    {
     "name": "stdout",
     "output_type": "stream",
     "text": [
      "Requirement already satisfied: mlxtend in c:\\users\\dakshith\\anaconda3\\lib\\site-packages (0.23.4)\n",
      "Requirement already satisfied: scipy>=1.2.1 in c:\\users\\dakshith\\anaconda3\\lib\\site-packages (from mlxtend) (1.10.1)\n",
      "Requirement already satisfied: numpy>=1.16.2 in c:\\users\\dakshith\\anaconda3\\lib\\site-packages (from mlxtend) (1.24.3)\n",
      "Requirement already satisfied: pandas>=0.24.2 in c:\\users\\dakshith\\anaconda3\\lib\\site-packages (from mlxtend) (1.5.3)\n",
      "Requirement already satisfied: scikit-learn>=1.3.1 in c:\\users\\dakshith\\anaconda3\\lib\\site-packages (from mlxtend) (1.6.1)\n",
      "Requirement already satisfied: matplotlib>=3.0.0 in c:\\users\\dakshith\\anaconda3\\lib\\site-packages (from mlxtend) (3.7.1)\n",
      "Requirement already satisfied: joblib>=0.13.2 in c:\\users\\dakshith\\anaconda3\\lib\\site-packages (from mlxtend) (1.2.0)\n",
      "Requirement already satisfied: contourpy>=1.0.1 in c:\\users\\dakshith\\anaconda3\\lib\\site-packages (from matplotlib>=3.0.0->mlxtend) (1.0.5)\n",
      "Requirement already satisfied: cycler>=0.10 in c:\\users\\dakshith\\anaconda3\\lib\\site-packages (from matplotlib>=3.0.0->mlxtend) (0.11.0)\n",
      "Requirement already satisfied: fonttools>=4.22.0 in c:\\users\\dakshith\\anaconda3\\lib\\site-packages (from matplotlib>=3.0.0->mlxtend) (4.25.0)\n",
      "Requirement already satisfied: kiwisolver>=1.0.1 in c:\\users\\dakshith\\anaconda3\\lib\\site-packages (from matplotlib>=3.0.0->mlxtend) (1.4.4)\n",
      "Requirement already satisfied: packaging>=20.0 in c:\\users\\dakshith\\anaconda3\\lib\\site-packages (from matplotlib>=3.0.0->mlxtend) (23.0)\n",
      "Requirement already satisfied: pillow>=6.2.0 in c:\\users\\dakshith\\anaconda3\\lib\\site-packages (from matplotlib>=3.0.0->mlxtend) (9.4.0)\n",
      "Requirement already satisfied: pyparsing>=2.3.1 in c:\\users\\dakshith\\anaconda3\\lib\\site-packages (from matplotlib>=3.0.0->mlxtend) (3.0.9)\n",
      "Requirement already satisfied: python-dateutil>=2.7 in c:\\users\\dakshith\\anaconda3\\lib\\site-packages (from matplotlib>=3.0.0->mlxtend) (2.8.2)\n",
      "Requirement already satisfied: pytz>=2020.1 in c:\\users\\dakshith\\anaconda3\\lib\\site-packages (from pandas>=0.24.2->mlxtend) (2022.7)\n",
      "Requirement already satisfied: threadpoolctl>=3.1.0 in c:\\users\\dakshith\\anaconda3\\lib\\site-packages (from scikit-learn>=1.3.1->mlxtend) (3.5.0)\n",
      "Requirement already satisfied: six>=1.5 in c:\\users\\dakshith\\anaconda3\\lib\\site-packages (from python-dateutil>=2.7->matplotlib>=3.0.0->mlxtend) (1.16.0)\n"
     ]
    }
   ],
   "source": [
    "!pip install mlxtend"
   ]
  },
  {
   "cell_type": "code",
   "execution_count": 23,
   "id": "f18482bc",
   "metadata": {},
   "outputs": [],
   "source": [
    "import numpy as np\n",
    "import pandas as pd\n",
    "from mlxtend.frequent_patterns import apriori\n",
    "from mlxtend.frequent_patterns import association_rules"
   ]
  },
  {
   "cell_type": "code",
   "execution_count": 24,
   "id": "ceb6b3b0",
   "metadata": {},
   "outputs": [],
   "source": [
    "data=[\n",
    "    ['milk','bread','butter','jam'],\n",
    "    ['milk','cola','jam'],\n",
    "    ['bread','jam','butter'],\n",
    "    ['milk','diapers','bread','jam'],\n",
    "    ['milk','cola','beer'],\n",
    "    ['milk','bread','butter'],\n",
    "    ['bread','jam','butter','beer']\n",
    "]"
   ]
  },
  {
   "cell_type": "code",
   "execution_count": 25,
   "id": "ad707556",
   "metadata": {},
   "outputs": [],
   "source": [
    "from mlxtend.preprocessing import TransactionEncoder"
   ]
  },
  {
   "cell_type": "code",
   "execution_count": 26,
   "id": "7decb78f",
   "metadata": {},
   "outputs": [],
   "source": [
    "te=TransactionEncoder()\n",
    "df=te.fit(data).transform(data)"
   ]
  },
  {
   "cell_type": "code",
   "execution_count": 27,
   "id": "c4e30e58",
   "metadata": {},
   "outputs": [],
   "source": [
    "import pandas as pd\n",
    "from mlxtend.frequent_patterns import apriori,association_rules\n",
    "import warnings\n",
    "warnings.filterwarnings('ignore')"
   ]
  },
  {
   "cell_type": "code",
   "execution_count": 28,
   "id": "ab7ef5ef",
   "metadata": {},
   "outputs": [],
   "source": [
    "titanic = pd.read_csv(r\"C:\\Users\\Dakshith\\OneDrive\\Documents\\Titanic.csv\")"
   ]
  },
  {
   "cell_type": "code",
   "execution_count": 29,
   "id": "33cefdd4",
   "metadata": {},
   "outputs": [
    {
     "data": {
      "text/plain": [
       "array(['3rd', '1st', '2nd', 'Crew'], dtype=object)"
      ]
     },
     "execution_count": 29,
     "metadata": {},
     "output_type": "execute_result"
    }
   ],
   "source": [
    "titanic['Class'].unique()"
   ]
  },
  {
   "cell_type": "code",
   "execution_count": 30,
   "id": "56f98a23",
   "metadata": {
    "scrolled": true
   },
   "outputs": [
    {
     "data": {
      "text/plain": [
       "Crew    885\n",
       "3rd     706\n",
       "1st     325\n",
       "2nd     285\n",
       "Name: Class, dtype: int64"
      ]
     },
     "execution_count": 30,
     "metadata": {},
     "output_type": "execute_result"
    }
   ],
   "source": [
    "titanic['Class'].value_counts()"
   ]
  },
  {
   "cell_type": "code",
   "execution_count": 31,
   "id": "075493ab",
   "metadata": {},
   "outputs": [
    {
     "data": {
      "text/plain": [
       "array(['Male', 'Female'], dtype=object)"
      ]
     },
     "execution_count": 31,
     "metadata": {},
     "output_type": "execute_result"
    }
   ],
   "source": [
    "titanic['Gender'].unique()"
   ]
  },
  {
   "cell_type": "code",
   "execution_count": 32,
   "id": "57acf262",
   "metadata": {},
   "outputs": [
    {
     "data": {
      "text/plain": [
       "array(['Child', 'Adult'], dtype=object)"
      ]
     },
     "execution_count": 32,
     "metadata": {},
     "output_type": "execute_result"
    }
   ],
   "source": [
    "titanic['Age'].unique()"
   ]
  },
  {
   "cell_type": "code",
   "execution_count": 33,
   "id": "610e8082",
   "metadata": {},
   "outputs": [
    {
     "data": {
      "text/plain": [
       "array(['No', 'Yes'], dtype=object)"
      ]
     },
     "execution_count": 33,
     "metadata": {},
     "output_type": "execute_result"
    }
   ],
   "source": [
    "titanic['Survived'].unique()"
   ]
  },
  {
   "cell_type": "code",
   "execution_count": 34,
   "id": "eab0b343",
   "metadata": {},
   "outputs": [
    {
     "data": {
      "text/plain": [
       "Male      1731\n",
       "Female     470\n",
       "Name: Gender, dtype: int64"
      ]
     },
     "execution_count": 34,
     "metadata": {},
     "output_type": "execute_result"
    }
   ],
   "source": [
    "titanic['Gender'].value_counts()"
   ]
  },
  {
   "cell_type": "code",
   "execution_count": 35,
   "id": "a9613d15",
   "metadata": {},
   "outputs": [
    {
     "data": {
      "text/plain": [
       "Adult    2092\n",
       "Child     109\n",
       "Name: Age, dtype: int64"
      ]
     },
     "execution_count": 35,
     "metadata": {},
     "output_type": "execute_result"
    }
   ],
   "source": [
    "titanic['Age'].value_counts()"
   ]
  },
  {
   "cell_type": "code",
   "execution_count": 36,
   "id": "2ef4ed9e",
   "metadata": {},
   "outputs": [
    {
     "data": {
      "text/plain": [
       "No     1490\n",
       "Yes     711\n",
       "Name: Survived, dtype: int64"
      ]
     },
     "execution_count": 36,
     "metadata": {},
     "output_type": "execute_result"
    }
   ],
   "source": [
    "titanic['Survived'].value_counts()"
   ]
  },
  {
   "cell_type": "code",
   "execution_count": 37,
   "id": "2777d68f",
   "metadata": {},
   "outputs": [
    {
     "data": {
      "text/html": [
       "<div>\n",
       "<style scoped>\n",
       "    .dataframe tbody tr th:only-of-type {\n",
       "        vertical-align: middle;\n",
       "    }\n",
       "\n",
       "    .dataframe tbody tr th {\n",
       "        vertical-align: top;\n",
       "    }\n",
       "\n",
       "    .dataframe thead th {\n",
       "        text-align: right;\n",
       "    }\n",
       "</style>\n",
       "<table border=\"1\" class=\"dataframe\">\n",
       "  <thead>\n",
       "    <tr style=\"text-align: right;\">\n",
       "      <th></th>\n",
       "      <th>Class_1st</th>\n",
       "      <th>Class_2nd</th>\n",
       "      <th>Class_3rd</th>\n",
       "      <th>Class_Crew</th>\n",
       "      <th>Gender_Female</th>\n",
       "      <th>Gender_Male</th>\n",
       "      <th>Age_Adult</th>\n",
       "      <th>Age_Child</th>\n",
       "      <th>Survived_No</th>\n",
       "      <th>Survived_Yes</th>\n",
       "    </tr>\n",
       "  </thead>\n",
       "  <tbody>\n",
       "    <tr>\n",
       "      <th>0</th>\n",
       "      <td>0</td>\n",
       "      <td>0</td>\n",
       "      <td>1</td>\n",
       "      <td>0</td>\n",
       "      <td>0</td>\n",
       "      <td>1</td>\n",
       "      <td>0</td>\n",
       "      <td>1</td>\n",
       "      <td>1</td>\n",
       "      <td>0</td>\n",
       "    </tr>\n",
       "    <tr>\n",
       "      <th>1</th>\n",
       "      <td>0</td>\n",
       "      <td>0</td>\n",
       "      <td>1</td>\n",
       "      <td>0</td>\n",
       "      <td>0</td>\n",
       "      <td>1</td>\n",
       "      <td>0</td>\n",
       "      <td>1</td>\n",
       "      <td>1</td>\n",
       "      <td>0</td>\n",
       "    </tr>\n",
       "    <tr>\n",
       "      <th>2</th>\n",
       "      <td>0</td>\n",
       "      <td>0</td>\n",
       "      <td>1</td>\n",
       "      <td>0</td>\n",
       "      <td>0</td>\n",
       "      <td>1</td>\n",
       "      <td>0</td>\n",
       "      <td>1</td>\n",
       "      <td>1</td>\n",
       "      <td>0</td>\n",
       "    </tr>\n",
       "    <tr>\n",
       "      <th>3</th>\n",
       "      <td>0</td>\n",
       "      <td>0</td>\n",
       "      <td>1</td>\n",
       "      <td>0</td>\n",
       "      <td>0</td>\n",
       "      <td>1</td>\n",
       "      <td>0</td>\n",
       "      <td>1</td>\n",
       "      <td>1</td>\n",
       "      <td>0</td>\n",
       "    </tr>\n",
       "    <tr>\n",
       "      <th>4</th>\n",
       "      <td>0</td>\n",
       "      <td>0</td>\n",
       "      <td>1</td>\n",
       "      <td>0</td>\n",
       "      <td>0</td>\n",
       "      <td>1</td>\n",
       "      <td>0</td>\n",
       "      <td>1</td>\n",
       "      <td>1</td>\n",
       "      <td>0</td>\n",
       "    </tr>\n",
       "  </tbody>\n",
       "</table>\n",
       "</div>"
      ],
      "text/plain": [
       "   Class_1st  Class_2nd  Class_3rd  Class_Crew  Gender_Female  Gender_Male  \\\n",
       "0          0          0          1           0              0            1   \n",
       "1          0          0          1           0              0            1   \n",
       "2          0          0          1           0              0            1   \n",
       "3          0          0          1           0              0            1   \n",
       "4          0          0          1           0              0            1   \n",
       "\n",
       "   Age_Adult  Age_Child  Survived_No  Survived_Yes  \n",
       "0          0          1            1             0  \n",
       "1          0          1            1             0  \n",
       "2          0          1            1             0  \n",
       "3          0          1            1             0  \n",
       "4          0          1            1             0  "
      ]
     },
     "execution_count": 37,
     "metadata": {},
     "output_type": "execute_result"
    }
   ],
   "source": [
    "df=pd.get_dummies(titanic,dtype='int')\n",
    "df.head()"
   ]
  },
  {
   "cell_type": "code",
   "execution_count": 38,
   "id": "5d1b7bd3",
   "metadata": {
    "scrolled": true
   },
   "outputs": [
    {
     "data": {
      "text/html": [
       "<div>\n",
       "<style scoped>\n",
       "    .dataframe tbody tr th:only-of-type {\n",
       "        vertical-align: middle;\n",
       "    }\n",
       "\n",
       "    .dataframe tbody tr th {\n",
       "        vertical-align: top;\n",
       "    }\n",
       "\n",
       "    .dataframe thead th {\n",
       "        text-align: right;\n",
       "    }\n",
       "</style>\n",
       "<table border=\"1\" class=\"dataframe\">\n",
       "  <thead>\n",
       "    <tr style=\"text-align: right;\">\n",
       "      <th></th>\n",
       "      <th>support</th>\n",
       "      <th>itemsets</th>\n",
       "    </tr>\n",
       "  </thead>\n",
       "  <tbody>\n",
       "    <tr>\n",
       "      <th>0</th>\n",
       "      <td>0.147660</td>\n",
       "      <td>(Class_1st)</td>\n",
       "    </tr>\n",
       "    <tr>\n",
       "      <th>1</th>\n",
       "      <td>0.129487</td>\n",
       "      <td>(Class_2nd)</td>\n",
       "    </tr>\n",
       "    <tr>\n",
       "      <th>2</th>\n",
       "      <td>0.320763</td>\n",
       "      <td>(Class_3rd)</td>\n",
       "    </tr>\n",
       "    <tr>\n",
       "      <th>3</th>\n",
       "      <td>0.402090</td>\n",
       "      <td>(Class_Crew)</td>\n",
       "    </tr>\n",
       "    <tr>\n",
       "      <th>4</th>\n",
       "      <td>0.213539</td>\n",
       "      <td>(Gender_Female)</td>\n",
       "    </tr>\n",
       "    <tr>\n",
       "      <th>5</th>\n",
       "      <td>0.786461</td>\n",
       "      <td>(Gender_Male)</td>\n",
       "    </tr>\n",
       "    <tr>\n",
       "      <th>6</th>\n",
       "      <td>0.950477</td>\n",
       "      <td>(Age_Adult)</td>\n",
       "    </tr>\n",
       "    <tr>\n",
       "      <th>7</th>\n",
       "      <td>0.676965</td>\n",
       "      <td>(Survived_No)</td>\n",
       "    </tr>\n",
       "    <tr>\n",
       "      <th>8</th>\n",
       "      <td>0.323035</td>\n",
       "      <td>(Survived_Yes)</td>\n",
       "    </tr>\n",
       "    <tr>\n",
       "      <th>9</th>\n",
       "      <td>0.144934</td>\n",
       "      <td>(Age_Adult, Class_1st)</td>\n",
       "    </tr>\n",
       "    <tr>\n",
       "      <th>10</th>\n",
       "      <td>0.118582</td>\n",
       "      <td>(Class_2nd, Age_Adult)</td>\n",
       "    </tr>\n",
       "    <tr>\n",
       "      <th>11</th>\n",
       "      <td>0.231713</td>\n",
       "      <td>(Class_3rd, Gender_Male)</td>\n",
       "    </tr>\n",
       "    <tr>\n",
       "      <th>12</th>\n",
       "      <td>0.284871</td>\n",
       "      <td>(Class_3rd, Age_Adult)</td>\n",
       "    </tr>\n",
       "    <tr>\n",
       "      <th>13</th>\n",
       "      <td>0.239891</td>\n",
       "      <td>(Class_3rd, Survived_No)</td>\n",
       "    </tr>\n",
       "    <tr>\n",
       "      <th>14</th>\n",
       "      <td>0.391640</td>\n",
       "      <td>(Class_Crew, Gender_Male)</td>\n",
       "    </tr>\n",
       "    <tr>\n",
       "      <th>15</th>\n",
       "      <td>0.402090</td>\n",
       "      <td>(Age_Adult, Class_Crew)</td>\n",
       "    </tr>\n",
       "    <tr>\n",
       "      <th>16</th>\n",
       "      <td>0.305770</td>\n",
       "      <td>(Class_Crew, Survived_No)</td>\n",
       "    </tr>\n",
       "    <tr>\n",
       "      <th>17</th>\n",
       "      <td>0.193094</td>\n",
       "      <td>(Age_Adult, Gender_Female)</td>\n",
       "    </tr>\n",
       "    <tr>\n",
       "      <th>18</th>\n",
       "      <td>0.156293</td>\n",
       "      <td>(Gender_Female, Survived_Yes)</td>\n",
       "    </tr>\n",
       "    <tr>\n",
       "      <th>19</th>\n",
       "      <td>0.757383</td>\n",
       "      <td>(Age_Adult, Gender_Male)</td>\n",
       "    </tr>\n",
       "    <tr>\n",
       "      <th>20</th>\n",
       "      <td>0.619718</td>\n",
       "      <td>(Survived_No, Gender_Male)</td>\n",
       "    </tr>\n",
       "    <tr>\n",
       "      <th>21</th>\n",
       "      <td>0.166742</td>\n",
       "      <td>(Gender_Male, Survived_Yes)</td>\n",
       "    </tr>\n",
       "    <tr>\n",
       "      <th>22</th>\n",
       "      <td>0.653339</td>\n",
       "      <td>(Age_Adult, Survived_No)</td>\n",
       "    </tr>\n",
       "    <tr>\n",
       "      <th>23</th>\n",
       "      <td>0.297138</td>\n",
       "      <td>(Age_Adult, Survived_Yes)</td>\n",
       "    </tr>\n",
       "    <tr>\n",
       "      <th>24</th>\n",
       "      <td>0.209905</td>\n",
       "      <td>(Class_3rd, Age_Adult, Gender_Male)</td>\n",
       "    </tr>\n",
       "    <tr>\n",
       "      <th>25</th>\n",
       "      <td>0.191731</td>\n",
       "      <td>(Class_3rd, Survived_No, Gender_Male)</td>\n",
       "    </tr>\n",
       "    <tr>\n",
       "      <th>26</th>\n",
       "      <td>0.216265</td>\n",
       "      <td>(Class_3rd, Age_Adult, Survived_No)</td>\n",
       "    </tr>\n",
       "    <tr>\n",
       "      <th>27</th>\n",
       "      <td>0.391640</td>\n",
       "      <td>(Age_Adult, Class_Crew, Gender_Male)</td>\n",
       "    </tr>\n",
       "    <tr>\n",
       "      <th>28</th>\n",
       "      <td>0.304407</td>\n",
       "      <td>(Class_Crew, Survived_No, Gender_Male)</td>\n",
       "    </tr>\n",
       "    <tr>\n",
       "      <th>29</th>\n",
       "      <td>0.305770</td>\n",
       "      <td>(Age_Adult, Class_Crew, Survived_No)</td>\n",
       "    </tr>\n",
       "    <tr>\n",
       "      <th>30</th>\n",
       "      <td>0.143571</td>\n",
       "      <td>(Age_Adult, Gender_Female, Survived_Yes)</td>\n",
       "    </tr>\n",
       "    <tr>\n",
       "      <th>31</th>\n",
       "      <td>0.603816</td>\n",
       "      <td>(Age_Adult, Survived_No, Gender_Male)</td>\n",
       "    </tr>\n",
       "    <tr>\n",
       "      <th>32</th>\n",
       "      <td>0.153567</td>\n",
       "      <td>(Age_Adult, Gender_Male, Survived_Yes)</td>\n",
       "    </tr>\n",
       "    <tr>\n",
       "      <th>33</th>\n",
       "      <td>0.175829</td>\n",
       "      <td>(Class_3rd, Age_Adult, Survived_No, Gender_Male)</td>\n",
       "    </tr>\n",
       "    <tr>\n",
       "      <th>34</th>\n",
       "      <td>0.304407</td>\n",
       "      <td>(Age_Adult, Class_Crew, Survived_No, Gender_Male)</td>\n",
       "    </tr>\n",
       "  </tbody>\n",
       "</table>\n",
       "</div>"
      ],
      "text/plain": [
       "     support                                           itemsets\n",
       "0   0.147660                                        (Class_1st)\n",
       "1   0.129487                                        (Class_2nd)\n",
       "2   0.320763                                        (Class_3rd)\n",
       "3   0.402090                                       (Class_Crew)\n",
       "4   0.213539                                    (Gender_Female)\n",
       "5   0.786461                                      (Gender_Male)\n",
       "6   0.950477                                        (Age_Adult)\n",
       "7   0.676965                                      (Survived_No)\n",
       "8   0.323035                                     (Survived_Yes)\n",
       "9   0.144934                             (Age_Adult, Class_1st)\n",
       "10  0.118582                             (Class_2nd, Age_Adult)\n",
       "11  0.231713                           (Class_3rd, Gender_Male)\n",
       "12  0.284871                             (Class_3rd, Age_Adult)\n",
       "13  0.239891                           (Class_3rd, Survived_No)\n",
       "14  0.391640                          (Class_Crew, Gender_Male)\n",
       "15  0.402090                            (Age_Adult, Class_Crew)\n",
       "16  0.305770                          (Class_Crew, Survived_No)\n",
       "17  0.193094                         (Age_Adult, Gender_Female)\n",
       "18  0.156293                      (Gender_Female, Survived_Yes)\n",
       "19  0.757383                           (Age_Adult, Gender_Male)\n",
       "20  0.619718                         (Survived_No, Gender_Male)\n",
       "21  0.166742                        (Gender_Male, Survived_Yes)\n",
       "22  0.653339                           (Age_Adult, Survived_No)\n",
       "23  0.297138                          (Age_Adult, Survived_Yes)\n",
       "24  0.209905                (Class_3rd, Age_Adult, Gender_Male)\n",
       "25  0.191731              (Class_3rd, Survived_No, Gender_Male)\n",
       "26  0.216265                (Class_3rd, Age_Adult, Survived_No)\n",
       "27  0.391640               (Age_Adult, Class_Crew, Gender_Male)\n",
       "28  0.304407             (Class_Crew, Survived_No, Gender_Male)\n",
       "29  0.305770               (Age_Adult, Class_Crew, Survived_No)\n",
       "30  0.143571           (Age_Adult, Gender_Female, Survived_Yes)\n",
       "31  0.603816              (Age_Adult, Survived_No, Gender_Male)\n",
       "32  0.153567             (Age_Adult, Gender_Male, Survived_Yes)\n",
       "33  0.175829   (Class_3rd, Age_Adult, Survived_No, Gender_Male)\n",
       "34  0.304407  (Age_Adult, Class_Crew, Survived_No, Gender_Male)"
      ]
     },
     "execution_count": 38,
     "metadata": {},
     "output_type": "execute_result"
    }
   ],
   "source": [
    "frequent_itemsets = apriori(df, min_support=0.1, use_colnames=True)\n",
    "frequent_itemsets"
   ]
  },
  {
   "cell_type": "code",
   "execution_count": 39,
   "id": "94e83123",
   "metadata": {},
   "outputs": [
    {
     "data": {
      "text/html": [
       "<div>\n",
       "<style scoped>\n",
       "    .dataframe tbody tr th:only-of-type {\n",
       "        vertical-align: middle;\n",
       "    }\n",
       "\n",
       "    .dataframe tbody tr th {\n",
       "        vertical-align: top;\n",
       "    }\n",
       "\n",
       "    .dataframe thead th {\n",
       "        text-align: right;\n",
       "    }\n",
       "</style>\n",
       "<table border=\"1\" class=\"dataframe\">\n",
       "  <thead>\n",
       "    <tr style=\"text-align: right;\">\n",
       "      <th></th>\n",
       "      <th>antecedents</th>\n",
       "      <th>consequents</th>\n",
       "      <th>antecedent support</th>\n",
       "      <th>consequent support</th>\n",
       "      <th>support</th>\n",
       "      <th>confidence</th>\n",
       "      <th>lift</th>\n",
       "      <th>representativity</th>\n",
       "      <th>leverage</th>\n",
       "      <th>conviction</th>\n",
       "      <th>zhangs_metric</th>\n",
       "      <th>jaccard</th>\n",
       "      <th>certainty</th>\n",
       "      <th>kulczynski</th>\n",
       "    </tr>\n",
       "  </thead>\n",
       "  <tbody>\n",
       "    <tr>\n",
       "      <th>0</th>\n",
       "      <td>(Gender_Female)</td>\n",
       "      <td>(Survived_Yes)</td>\n",
       "      <td>0.213539</td>\n",
       "      <td>0.323035</td>\n",
       "      <td>0.156293</td>\n",
       "      <td>0.731915</td>\n",
       "      <td>2.265745</td>\n",
       "      <td>1.0</td>\n",
       "      <td>0.087312</td>\n",
       "      <td>2.525187</td>\n",
       "      <td>0.710327</td>\n",
       "      <td>0.410992</td>\n",
       "      <td>0.603990</td>\n",
       "      <td>0.607870</td>\n",
       "    </tr>\n",
       "    <tr>\n",
       "      <th>1</th>\n",
       "      <td>(Survived_Yes)</td>\n",
       "      <td>(Gender_Female)</td>\n",
       "      <td>0.323035</td>\n",
       "      <td>0.213539</td>\n",
       "      <td>0.156293</td>\n",
       "      <td>0.483826</td>\n",
       "      <td>2.265745</td>\n",
       "      <td>1.0</td>\n",
       "      <td>0.087312</td>\n",
       "      <td>1.523634</td>\n",
       "      <td>0.825219</td>\n",
       "      <td>0.410992</td>\n",
       "      <td>0.343674</td>\n",
       "      <td>0.607870</td>\n",
       "    </tr>\n",
       "    <tr>\n",
       "      <th>2</th>\n",
       "      <td>(Gender_Female, Age_Adult)</td>\n",
       "      <td>(Survived_Yes)</td>\n",
       "      <td>0.193094</td>\n",
       "      <td>0.323035</td>\n",
       "      <td>0.143571</td>\n",
       "      <td>0.743529</td>\n",
       "      <td>2.301699</td>\n",
       "      <td>1.0</td>\n",
       "      <td>0.081195</td>\n",
       "      <td>2.639542</td>\n",
       "      <td>0.700873</td>\n",
       "      <td>0.385366</td>\n",
       "      <td>0.621146</td>\n",
       "      <td>0.593987</td>\n",
       "    </tr>\n",
       "    <tr>\n",
       "      <th>3</th>\n",
       "      <td>(Age_Adult, Survived_Yes)</td>\n",
       "      <td>(Gender_Female)</td>\n",
       "      <td>0.297138</td>\n",
       "      <td>0.213539</td>\n",
       "      <td>0.143571</td>\n",
       "      <td>0.483180</td>\n",
       "      <td>2.262724</td>\n",
       "      <td>1.0</td>\n",
       "      <td>0.080121</td>\n",
       "      <td>1.521732</td>\n",
       "      <td>0.793974</td>\n",
       "      <td>0.391089</td>\n",
       "      <td>0.342854</td>\n",
       "      <td>0.577760</td>\n",
       "    </tr>\n",
       "    <tr>\n",
       "      <th>4</th>\n",
       "      <td>(Gender_Female)</td>\n",
       "      <td>(Age_Adult, Survived_Yes)</td>\n",
       "      <td>0.213539</td>\n",
       "      <td>0.297138</td>\n",
       "      <td>0.143571</td>\n",
       "      <td>0.672340</td>\n",
       "      <td>2.262724</td>\n",
       "      <td>1.0</td>\n",
       "      <td>0.080121</td>\n",
       "      <td>2.145099</td>\n",
       "      <td>0.709577</td>\n",
       "      <td>0.391089</td>\n",
       "      <td>0.533821</td>\n",
       "      <td>0.577760</td>\n",
       "    </tr>\n",
       "    <tr>\n",
       "      <th>5</th>\n",
       "      <td>(Survived_Yes)</td>\n",
       "      <td>(Gender_Female, Age_Adult)</td>\n",
       "      <td>0.323035</td>\n",
       "      <td>0.193094</td>\n",
       "      <td>0.143571</td>\n",
       "      <td>0.444444</td>\n",
       "      <td>2.301699</td>\n",
       "      <td>1.0</td>\n",
       "      <td>0.081195</td>\n",
       "      <td>1.452431</td>\n",
       "      <td>0.835403</td>\n",
       "      <td>0.385366</td>\n",
       "      <td>0.311499</td>\n",
       "      <td>0.593987</td>\n",
       "    </tr>\n",
       "  </tbody>\n",
       "</table>\n",
       "</div>"
      ],
      "text/plain": [
       "                  antecedents                 consequents  antecedent support  \\\n",
       "0             (Gender_Female)              (Survived_Yes)            0.213539   \n",
       "1              (Survived_Yes)             (Gender_Female)            0.323035   \n",
       "2  (Gender_Female, Age_Adult)              (Survived_Yes)            0.193094   \n",
       "3   (Age_Adult, Survived_Yes)             (Gender_Female)            0.297138   \n",
       "4             (Gender_Female)   (Age_Adult, Survived_Yes)            0.213539   \n",
       "5              (Survived_Yes)  (Gender_Female, Age_Adult)            0.323035   \n",
       "\n",
       "   consequent support   support  confidence      lift  representativity  \\\n",
       "0            0.323035  0.156293    0.731915  2.265745               1.0   \n",
       "1            0.213539  0.156293    0.483826  2.265745               1.0   \n",
       "2            0.323035  0.143571    0.743529  2.301699               1.0   \n",
       "3            0.213539  0.143571    0.483180  2.262724               1.0   \n",
       "4            0.297138  0.143571    0.672340  2.262724               1.0   \n",
       "5            0.193094  0.143571    0.444444  2.301699               1.0   \n",
       "\n",
       "   leverage  conviction  zhangs_metric   jaccard  certainty  kulczynski  \n",
       "0  0.087312    2.525187       0.710327  0.410992   0.603990    0.607870  \n",
       "1  0.087312    1.523634       0.825219  0.410992   0.343674    0.607870  \n",
       "2  0.081195    2.639542       0.700873  0.385366   0.621146    0.593987  \n",
       "3  0.080121    1.521732       0.793974  0.391089   0.342854    0.577760  \n",
       "4  0.080121    2.145099       0.709577  0.391089   0.533821    0.577760  \n",
       "5  0.081195    1.452431       0.835403  0.385366   0.311499    0.593987  "
      ]
     },
     "execution_count": 39,
     "metadata": {},
     "output_type": "execute_result"
    }
   ],
   "source": [
    "rules = association_rules(frequent_itemsets, metric=\"lift\",min_threshold=2,num_itemsets=len(frequent_itemsets))\n",
    "rules"
   ]
  },
  {
   "cell_type": "code",
   "execution_count": 41,
   "id": "acf5f8ce",
   "metadata": {},
   "outputs": [
    {
     "data": {
      "text/html": [
       "<div>\n",
       "<style scoped>\n",
       "    .dataframe tbody tr th:only-of-type {\n",
       "        vertical-align: middle;\n",
       "    }\n",
       "\n",
       "    .dataframe tbody tr th {\n",
       "        vertical-align: top;\n",
       "    }\n",
       "\n",
       "    .dataframe thead th {\n",
       "        text-align: right;\n",
       "    }\n",
       "</style>\n",
       "<table border=\"1\" class=\"dataframe\">\n",
       "  <thead>\n",
       "    <tr style=\"text-align: right;\">\n",
       "      <th></th>\n",
       "      <th>antecedents</th>\n",
       "      <th>consequents</th>\n",
       "      <th>antecedent support</th>\n",
       "      <th>consequent support</th>\n",
       "      <th>support</th>\n",
       "      <th>confidence</th>\n",
       "      <th>lift</th>\n",
       "      <th>representativity</th>\n",
       "      <th>leverage</th>\n",
       "      <th>conviction</th>\n",
       "      <th>zhangs_metric</th>\n",
       "      <th>jaccard</th>\n",
       "      <th>certainty</th>\n",
       "      <th>kulczynski</th>\n",
       "    </tr>\n",
       "  </thead>\n",
       "  <tbody>\n",
       "  </tbody>\n",
       "</table>\n",
       "</div>"
      ],
      "text/plain": [
       "Empty DataFrame\n",
       "Columns: [antecedents, consequents, antecedent support, consequent support, support, confidence, lift, representativity, leverage, conviction, zhangs_metric, jaccard, certainty, kulczynski]\n",
       "Index: []"
      ]
     },
     "execution_count": 41,
     "metadata": {},
     "output_type": "execute_result"
    }
   ],
   "source": [
    "rules[rules['support']>0.5]"
   ]
  },
  {
   "cell_type": "code",
   "execution_count": null,
   "id": "64086e72",
   "metadata": {},
   "outputs": [],
   "source": []
  },
  {
   "cell_type": "code",
   "execution_count": null,
   "id": "199ded69",
   "metadata": {},
   "outputs": [],
   "source": []
  }
 ],
 "metadata": {
  "kernelspec": {
   "display_name": "Python 3 (ipykernel)",
   "language": "python",
   "name": "python3"
  },
  "language_info": {
   "codemirror_mode": {
    "name": "ipython",
    "version": 3
   },
   "file_extension": ".py",
   "mimetype": "text/x-python",
   "name": "python",
   "nbconvert_exporter": "python",
   "pygments_lexer": "ipython3",
   "version": "3.11.4"
  }
 },
 "nbformat": 4,
 "nbformat_minor": 5
}
