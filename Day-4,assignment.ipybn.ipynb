{
 "cells": [
  {
   "cell_type": "code",
   "execution_count": 4,
   "id": "4d7987bf",
   "metadata": {},
   "outputs": [
    {
     "name": "stdout",
     "output_type": "stream",
     "text": [
      "Enter a positive integer: 2706\n",
      "The sum of all even numbers between 1 and 2706 is: 1831962\n"
     ]
    }
   ],
   "source": [
    "x = int(input(\"Enter a positive integer: \"))\n",
    "sum_of_evens = 0\n",
    "for i in range(2, x + 1, 2):\n",
    "    sum_of_evens += i\n",
    "print(\"The sum of all even numbers between 1 and\", x, \"is:\", sum_of_evens)"
   ]
  },
  {
   "cell_type": "code",
   "execution_count": null,
   "id": "ff9a34b2",
   "metadata": {},
   "outputs": [],
   "source": []
  }
 ],
 "metadata": {
  "kernelspec": {
   "display_name": "Python 3 (ipykernel)",
   "language": "python",
   "name": "python3"
  },
  "language_info": {
   "codemirror_mode": {
    "name": "ipython",
    "version": 3
   },
   "file_extension": ".py",
   "mimetype": "text/x-python",
   "name": "python",
   "nbconvert_exporter": "python",
   "pygments_lexer": "ipython3",
   "version": "3.11.4"
  }
 },
 "nbformat": 4,
 "nbformat_minor": 5
}
