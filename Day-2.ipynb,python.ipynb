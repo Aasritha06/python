{
 "cells": [
  {
   "cell_type": "raw",
   "id": "9c783571",
   "metadata": {},
   "source": [
    "LIST"
   ]
  },
  {
   "cell_type": "code",
   "execution_count": 4,
   "id": "0ed6ec9e",
   "metadata": {},
   "outputs": [
    {
     "name": "stdout",
     "output_type": "stream",
     "text": [
      "Apple\n",
      "Cherry\n",
      "Banana\n",
      "['Banana', 'Cherry', 'Date']\n"
     ]
    }
   ],
   "source": [
    "fruits = [\"Apple\", \"Banana\", \"Cherry\", \"Date\", \"Elderberry\"]\n",
    "print(fruits[0])  \n",
    "print(fruits[2]) \n",
    "print(fruits[1]) \n",
    "print(fruits[1:4]) "
   ]
  },
  {
   "cell_type": "raw",
   "id": "79e0d79d",
   "metadata": {},
   "source": [
    "TUPLES"
   ]
  },
  {
   "cell_type": "code",
   "execution_count": 9,
   "id": "cddb57fd",
   "metadata": {},
   "outputs": [
    {
     "name": "stdout",
     "output_type": "stream",
     "text": [
      "27\n",
      "6\n",
      "(27, 6, 13, 29, 13)\n"
     ]
    }
   ],
   "source": [
    "numbers = (27, 6, 13, 29, 13)\n",
    "print(numbers[0]) \n",
    "print(numbers[1]) \n",
    "print(numbers[0:5])  "
   ]
  },
  {
   "cell_type": "raw",
   "id": "5d8a8796",
   "metadata": {},
   "source": [
    "DICTIONARY"
   ]
  },
  {
   "cell_type": "code",
   "execution_count": 10,
   "id": "e6ab6ca1",
   "metadata": {},
   "outputs": [
    {
     "name": "stdout",
     "output_type": "stream",
     "text": [
      "reky\n",
      "24\n",
      "hyderabad\n"
     ]
    }
   ],
   "source": [
    "person = {\n",
    "    \"name\": \"reky\",\n",
    "    \"age\": 24,\n",
    "    \"city\": \"hyderabad\",\n",
    "    \"email\": \"XYZ.@gmail.com\",\n",
    "    \"phone\": \"8127345681\"\n",
    "}\n",
    "print(person[\"name\"])  \n",
    "print(person[\"age\"])   \n",
    "print(person.get(\"city\")) "
   ]
  },
  {
   "cell_type": "code",
   "execution_count": null,
   "id": "185e5956",
   "metadata": {},
   "outputs": [],
   "source": []
  }
 ],
 "metadata": {
  "kernelspec": {
   "display_name": "Python 3 (ipykernel)",
   "language": "python",
   "name": "python3"
  },
  "language_info": {
   "codemirror_mode": {
    "name": "ipython",
    "version": 3
   },
   "file_extension": ".py",
   "mimetype": "text/x-python",
   "name": "python",
   "nbconvert_exporter": "python",
   "pygments_lexer": "ipython3",
   "version": "3.11.4"
  }
 },
 "nbformat": 4,
 "nbformat_minor": 5
}
